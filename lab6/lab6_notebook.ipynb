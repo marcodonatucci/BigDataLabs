{
 "cells": [
  {
   "cell_type": "markdown",
   "id": "ed97339d",
   "metadata": {},
   "source": [
    "# Lab 6 - Amazon Product Co-Review Analysis\n",
    "\n",
    "This notebook analyzes Amazon food reviews to find products that are frequently reviewed together by the same users.\n",
    "\n",
    "## Objectives:\n",
    "\n",
    "1. **Task 1**: \n",
    "   - Transform dataset to get (user_id, list of products) pairs\n",
    "   - Count frequency of product pairs reviewed together\n",
    "   - Save pairs that appear more than once, sorted by frequency\n",
    "\n",
    "2. **Task 2** (Bonus): \n",
    "   - Display top 10 most frequent product pairs\n",
    "\n",
    "## Input Format:\n",
    "CSV file with schema: `Id,ProductId,UserId,ProfileName,HelpfulnessNumerator,HelpfulnessDenominator,Score,Time,Summary,Text`\n",
    "\n",
    "Key columns:\n",
    "- Column 1 (index 1): ProductId  \n",
    "- Column 2 (index 2): UserId"
   ]
  },
  {
   "cell_type": "markdown",
   "id": "b1252887",
   "metadata": {},
   "source": [
    "## Import libraries and configuration"
   ]
  },
  {
   "cell_type": "code",
   "execution_count": null,
   "id": "1e03b6f8",
   "metadata": {},
   "outputs": [],
   "source": [
    "from typing import List, Tuple\n",
    "from pyspark import SparkConf, SparkContext\n",
    "from itertools import combinations"
   ]
  },
  {
   "cell_type": "markdown",
   "id": "da1b7b0e",
   "metadata": {},
   "source": [
    "## Parameters configuration"
   ]
  },
  {
   "cell_type": "code",
   "execution_count": null,
   "id": "0296b835",
   "metadata": {},
   "outputs": [],
   "source": [
    "# Configuration of paths and parameters\n",
    "inputPath = \"ReviewsSample.csv\"  # For local testing\n",
    "# inputPath = \"/data/students/bigdata-01QYD/Lab4/Reviews.csv\"  # For HDFS environment\n",
    "outputPath = \"product_pairs_output/\""
   ]
  },
  {
   "cell_type": "markdown",
   "id": "55dd04ec",
   "metadata": {},
   "source": [
    "## Reading and preprocessing input data"
   ]
  },
  {
   "cell_type": "code",
   "execution_count": null,
   "id": "98bb4817",
   "metadata": {},
   "outputs": [],
   "source": [
    "# Read input file\n",
    "reviewsRDD = sc.textFile(inputPath)\n",
    "\n",
    "# Remove header line (starts with \"Id,\")\n",
    "header = reviewsRDD.first()\n",
    "\n",
    "# Filter out header\n",
    "dataRDD = reviewsRDD.filter(lambda line: line != header)\n",
    "\n",
    "# Cache for performance\n",
    "dataRDD.cache()"
   ]
  },
  {
   "cell_type": "markdown",
   "id": "8eb0180d",
   "metadata": {},
   "source": [
    "## Step 1: Extract (UserId, ProductId) pairs"
   ]
  },
  {
   "cell_type": "code",
   "execution_count": null,
   "id": "cb64383b",
   "metadata": {},
   "outputs": [],
   "source": [
    "def parse_csv_line(line: str) -> Tuple[str, str]:\n",
    "    \"\"\"\n",
    "    Parse CSV line to extract ProductId (column 1) and UserId (column 2)\n",
    "    Returns (UserId, ProductId)\n",
    "    \"\"\"\n",
    "    try:\n",
    "        # Split by comma (simple CSV parsing)\n",
    "        fields = line.split(',')\n",
    "        \n",
    "        if len(fields) >= 3:\n",
    "            product_id = fields[1].strip()  # ProductId (column 1)\n",
    "            user_id = fields[2].strip()     # UserId (column 2)\n",
    "            return (user_id, product_id)\n",
    "        else:\n",
    "            return None\n",
    "    except:\n",
    "        return None\n",
    "\n",
    "# Extract (UserId, ProductId) pairs\n",
    "userProductPairsRDD = dataRDD.map(parse_csv_line).filter(lambda x: x is not None)\n"
   ]
  },
  {
   "cell_type": "markdown",
   "id": "5c93639b",
   "metadata": {},
   "source": [
    "## Step 2: Group products by user (create user-product lists)"
   ]
  },
  {
   "cell_type": "code",
   "execution_count": null,
   "id": "f1af71e2",
   "metadata": {},
   "outputs": [],
   "source": [
    "# Group by UserId and collect distinct ProductIds for each user\n",
    "userProductListsRDD = userProductPairsRDD.groupByKey().mapValues(lambda products: list(set(products)))\n",
    "\n",
    "# Cache for multiple usage\n",
    "userProductListsRDD.cache()"
   ]
  },
  {
   "cell_type": "markdown",
   "id": "b0090b03",
   "metadata": {},
   "source": [
    "## Step 3: Generate product pairs for each user"
   ]
  },
  {
   "cell_type": "code",
   "execution_count": null,
   "id": "1c0f759b",
   "metadata": {},
   "outputs": [],
   "source": [
    "def generate_product_pairs(user_products: Tuple[str, List[str]]) -> List[Tuple[str, int]]:\n",
    "    \"\"\"\n",
    "    Generate all product pairs for a user\n",
    "    Returns list of ((product1, product2), 1) where product1 < product2 lexicographically\n",
    "    \"\"\"\n",
    "    user_id, products = user_products\n",
    "    \n",
    "    # Only generate pairs if user reviewed 2 or more products\n",
    "    if len(products) < 2:\n",
    "        return []\n",
    "    \n",
    "    pairs = []\n",
    "    # Generate all combinations of 2 products\n",
    "    for product1, product2 in combinations(products, 2):\n",
    "        # Order products lexicographically to avoid duplicates (A,B) and (B,A)\n",
    "        if product1 < product2:\n",
    "            pairs.append(((product1, product2), 1))\n",
    "        else:\n",
    "            pairs.append(((product2, product1), 1))\n",
    "    \n",
    "    return pairs\n",
    "\n",
    "# Generate all product pairs from all users\n",
    "productPairsRDD = userProductListsRDD.flatMap(generate_product_pairs)"
   ]
  },
  {
   "cell_type": "markdown",
   "id": "6f14f9f1",
   "metadata": {},
   "source": [
    "## Step 4: Count frequency of each product pair"
   ]
  },
  {
   "cell_type": "code",
   "execution_count": null,
   "id": "c955df50",
   "metadata": {},
   "outputs": [],
   "source": [
    "# Count frequency of each product pair\n",
    "productPairFreqRDD = productPairsRDD.reduceByKey(lambda a, b: a + b)\n",
    "\n",
    "# Cache for multiple operations\n",
    "productPairFreqRDD.cache()"
   ]
  },
  {
   "cell_type": "markdown",
   "id": "776735f5",
   "metadata": {},
   "source": [
    "## Step 5: Filter pairs that appear more than once and sort by frequency"
   ]
  },
  {
   "cell_type": "code",
   "execution_count": null,
   "id": "e849444c",
   "metadata": {},
   "outputs": [],
   "source": [
    "# Filter pairs that appear more than once (frequency > 1)\n",
    "frequentPairsRDD = productPairFreqRDD.filter(lambda x: x[1] > 1)\n",
    "\n",
    "# Count filtered pairs\n",
    "numFrequentPairs = frequentPairsRDD.count()\n",
    "\n",
    "if numFrequentPairs > 0:\n",
    "    # Sort by frequency in descending order\n",
    "    # Convert to (frequency, (product1, product2)) for sorting, then swap back\n",
    "    sortedPairsRDD = frequentPairsRDD.map(lambda x: (x[1], x[0])) \\\n",
    "                                     .sortByKey(ascending=False) \\\n",
    "                                     .map(lambda x: (x[1], x[0]))\n",
    "    \n",
    "else:\n",
    "    print(\"No product pairs appear more than once\")\n",
    "    sortedPairsRDD = sc.emptyRDD()"
   ]
  },
  {
   "cell_type": "markdown",
   "id": "ae033f88",
   "metadata": {},
   "source": [
    "## Step 6: Save results to output folder"
   ]
  },
  {
   "cell_type": "code",
   "execution_count": null,
   "id": "4b85f965",
   "metadata": {},
   "outputs": [],
   "source": [
    "if numFrequentPairs > 0:\n",
    "    # Prepare output format: \"(product1,product2)\\tfrequency\"\n",
    "    outputRDD = sortedPairsRDD.map(lambda x: f\"({x[0][0]},{x[0][1]})\\t{x[1]}\")\n",
    "    \n",
    "    # Save to output folder\n",
    "    try:\n",
    "        outputRDD.saveAsTextFile(outputPath)\n",
    "        print(f\"\\nResults saved successfully to: {outputPath}\")\n",
    "    except Exception as e:\n",
    "        print(f\"\\nError saving to {outputPath}: {e}\")\n",
    "else:\n",
    "    print(\"\\nNo data to save (no frequent pairs found)\")"
   ]
  },
  {
   "cell_type": "markdown",
   "id": "5426ea9b",
   "metadata": {},
   "source": [
    "## Task 2 (Bonus): Top 10 Most Frequent Product Pairs"
   ]
  },
  {
   "cell_type": "code",
   "execution_count": null,
   "id": "17cf2863",
   "metadata": {},
   "outputs": [],
   "source": [
    "if numFrequentPairs > 0:\n",
    "    # Get top 10 most frequent pairs\n",
    "    top10Pairs = sortedPairsRDD.take(10)\n",
    "    \n",
    "    for i, ((product1, product2), frequency) in enumerate(top10Pairs, 1):\n",
    "        print(f\"{i:2d}.\\t({product1}, {product2})\\t\\t{frequency}\")\n",
    "else:\n",
    "    print(\"No frequent product pairs found to display top 10\")"
   ]
  },
  {
   "cell_type": "markdown",
   "id": "140303dd",
   "metadata": {},
   "source": [
    "## Data Analysis and Insights"
   ]
  },
  {
   "cell_type": "code",
   "execution_count": null,
   "id": "431d9b75",
   "metadata": {},
   "outputs": [],
   "source": [
    "print(\"\\n=== DATA ANALYSIS AND INSIGHTS ===\")\n",
    "\n",
    "# Analyze user behavior\n",
    "usersWithMultipleProducts = userProductListsRDD.filter(lambda x: len(x[1]) > 1).count()\n",
    "percentageMultipleProducts = (usersWithMultipleProducts / totalUsers) * 100 if totalUsers > 0 else 0\n",
    "\n",
    "print(f\"\\nUser Behavior Analysis:\")\n",
    "print(f\"  Total users: {totalUsers}\")\n",
    "print(f\"  Users who reviewed multiple products: {usersWithMultipleProducts}\")\n",
    "print(f\"  Percentage of users with multiple products: {percentageMultipleProducts:.1f}%\")\n",
    "\n",
    "# Product analysis\n",
    "if numFrequentPairs > 0:\n",
    "    # Extract all unique products from frequent pairs\n",
    "    productsInPairs = sortedPairsRDD.flatMap(lambda x: [x[0][0], x[0][1]]).distinct()\n",
    "    numProductsInPairs = productsInPairs.count()\n",
    "    \n",
    "    print(f\"\\nProduct Pair Analysis:\")\n",
    "    print(f\"  Total unique product pairs with frequency > 1: {numFrequentPairs}\")\n",
    "    print(f\"  Unique products involved in frequent pairs: {numProductsInPairs}\")\n",
    "    \n",
    "    # Most popular products (appear in most pairs)\n",
    "    productPopularity = sortedPairsRDD.flatMap(lambda x: [(x[0][0], 1), (x[0][1], 1)]) \\\n",
    "                                      .reduceByKey(lambda a, b: a + b) \\\n",
    "                                      .sortBy(lambda x: x[1], ascending=False)\n",
    "    \n",
    "    print(f\"\\nMost popular products (appear in most frequent pairs):\")\n",
    "    topProducts = productPopularity.take(5)\n",
    "    for product, pairCount in topProducts:\n",
    "        print(f\"  {product}: appears in {pairCount} frequent pairs\")\n",
    "\n",
    "print(f\"\\nOverall Statistics:\")\n",
    "print(f\"  Total reviews processed: {totalLines}\")\n",
    "print(f\"  Total unique users: {totalUsers}\")\n",
    "print(f\"  Total product pair instances: {productPairsRDD.count()}\")\n",
    "print(f\"  Unique product pairs: {totalUniquePairs}\")\n",
    "print(f\"  Frequent pairs (freq > 1): {numFrequentPairs}\")"
   ]
  }
 ],
 "metadata": {
  "language_info": {
   "name": "python"
  }
 },
 "nbformat": 4,
 "nbformat_minor": 5
}
