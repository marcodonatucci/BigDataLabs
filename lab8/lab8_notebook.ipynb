{
 "cells": [
  {
   "cell_type": "markdown",
   "id": "cf424323",
   "metadata": {},
   "source": [
    "# Lab 8 - Barcelona Bike Sharing Station Criticality Analysis\n",
    "\n",
    "Analysis of historical data from Barcelona bike sharing stations to identify critical timeslots.\n",
    "\n",
    "## Objectives:\n",
    "- Remove invalid data (used_slots=0 AND free_slots=0)\n",
    "- Calculate criticality for each (station, timeslot) pair\n",
    "- Filter by minimum criticality threshold\n",
    "- Join with station coordinates\n",
    "- Save results sorted by criticality (desc), station (asc), weekday (asc), hour (asc)"
   ]
  },
  {
   "cell_type": "code",
   "execution_count": null,
   "id": "9378e7a3",
   "metadata": {},
   "outputs": [],
   "source": [
    "# Configuration parameters\n",
    "registerPath = \"sampleData 2/registerSample.csv\"\n",
    "stationsPath = \"sampleData 2/stations.csv\"\n",
    "outputPath = \"output_lab8/\"\n",
    "minCriticalityThreshold = 0.4"
   ]
  },
  {
   "cell_type": "code",
   "execution_count": null,
   "id": "94adb075",
   "metadata": {},
   "outputs": [],
   "source": [
    "# Read register data\n",
    "registerDF = spark.read \\\n",
    "    .option(\"header\", \"true\") \\\n",
    "    .option(\"delimiter\", \"\\t\") \\\n",
    "    .option(\"inferSchema\", \"true\") \\\n",
    "    .csv(registerPath)"
   ]
  },
  {
   "cell_type": "code",
   "execution_count": null,
   "id": "81a09e3d",
   "metadata": {},
   "outputs": [],
   "source": [
    "# Read stations data\n",
    "stationsDF = spark.read \\\n",
    "    .option(\"header\", \"true\") \\\n",
    "    .option(\"delimiter\", \"\\t\") \\\n",
    "    .option(\"inferSchema\", \"true\") \\\n",
    "    .csv(stationsPath)"
   ]
  },
  {
   "cell_type": "code",
   "execution_count": null,
   "id": "5c862bd4",
   "metadata": {},
   "outputs": [],
   "source": [
    "# Filter invalid data and add derived columns\n",
    "cleanDF = registerDF.filter(\n",
    "    ~((col(\"used_slots\") == 0) & (col(\"free_slots\") == 0))\n",
    ").withColumn(\n",
    "    \"weekday\", date_format(col(\"timestamp\"), \"EE\")\n",
    ").withColumn(\n",
    "    \"hour\", hour(col(\"timestamp\"))\n",
    ").withColumn(\n",
    "    \"is_critical\", when(col(\"free_slots\") == 0, 1).otherwise(0)\n",
    ")"
   ]
  },
  {
   "cell_type": "code",
   "execution_count": null,
   "id": "5b2fc32a",
   "metadata": {},
   "outputs": [],
   "source": [
    "# Calculate criticality for each station-timeslot pair\n",
    "criticalityDF = cleanDF.groupBy(\"station\", \"weekday\", \"hour\").agg(\n",
    "    sum(\"is_critical\").alias(\"critical_count\"),\n",
    "    count(\"*\").alias(\"total_count\")\n",
    ").withColumn(\n",
    "    \"criticality\", col(\"critical_count\") / col(\"total_count\")\n",
    ")"
   ]
  },
  {
   "cell_type": "code",
   "execution_count": null,
   "id": "d04cfa4a",
   "metadata": {},
   "outputs": [],
   "source": [
    "# Filter by threshold and join with station coordinates\n",
    "resultDF = criticalityDF.filter(\n",
    "    col(\"criticality\") >= minCriticalityThreshold\n",
    ").join(\n",
    "    stationsDF.select(\"id\", \"longitude\", \"latitude\"),\n",
    "    criticalityDF.station == stationsDF.id,\n",
    "    \"inner\"\n",
    ").select(\n",
    "    \"station\",\n",
    "    \"weekday\", \n",
    "    \"hour\",\n",
    "    \"criticality\",\n",
    "    \"longitude\",\n",
    "    \"latitude\"\n",
    ").orderBy(\n",
    "    col(\"criticality\").desc(),\n",
    "    col(\"station\").asc(),\n",
    "    col(\"weekday\").asc(),\n",
    "    col(\"hour\").asc()\n",
    ")"
   ]
  },
  {
   "cell_type": "code",
   "execution_count": null,
   "id": "ba3b2947",
   "metadata": {},
   "outputs": [],
   "source": [
    "# Save results\n",
    "resultDF.coalesce(1).write \\\n",
    "    .mode(\"overwrite\") \\\n",
    "    .option(\"header\", \"true\") \\\n",
    "    .csv(outputPath)\n",
    "\n",
    "print(f\"Results saved to: {outputPath}\")\n",
    "print(f\"Number of records: {resultDF.count()}\")"
   ]
  },
  {
   "cell_type": "code",
   "execution_count": null,
   "id": "0ea5e9d8",
   "metadata": {},
   "outputs": [],
   "source": [
    "# Display results\n",
    "resultDF.show()"
   ]
  }
 ],
 "metadata": {
  "language_info": {
   "name": "python"
  }
 },
 "nbformat": 4,
 "nbformat_minor": 5
}
